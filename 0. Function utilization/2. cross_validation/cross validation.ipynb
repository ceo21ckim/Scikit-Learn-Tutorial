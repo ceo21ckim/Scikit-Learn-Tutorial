{
 "cells": [
  {
   "cell_type": "markdown",
   "id": "8d4c5ee1",
   "metadata": {},
   "source": [
    "- 옛날 버전에서는 from sklearn import cross_valication 으로 불러온다.\n",
    "- 최근버전은 from sklearn.model_selection import cross_validate, cross_val_score"
   ]
  },
  {
   "cell_type": "code",
   "execution_count": 13,
   "id": "71132e8b",
   "metadata": {},
   "outputs": [],
   "source": [
    "import numpy as np \n",
    "import pandas as pd\n",
    "from sklearn import (\n",
    "svm, \n",
    "datasets\n",
    ")\n",
    "from sklearn.model_selection import cross_validate, cross_val_score\n",
    "from sklearn.model_selection import train_test_split"
   ]
  },
  {
   "cell_type": "code",
   "execution_count": 6,
   "id": "9bffe9bc",
   "metadata": {},
   "outputs": [],
   "source": [
    "iris = datasets.load_iris()\n",
    "x = iris.data\n",
    "y = iris.target"
   ]
  },
  {
   "cell_type": "code",
   "execution_count": 7,
   "id": "c5509d24",
   "metadata": {},
   "outputs": [],
   "source": [
    "x_train, x_test, y_train, y_test = train_test_split(x, y, test_size = 0.2, random_state = 42)"
   ]
  },
  {
   "cell_type": "code",
   "execution_count": 8,
   "id": "29fea51d",
   "metadata": {},
   "outputs": [
    {
     "name": "stdout",
     "output_type": "stream",
     "text": [
      "x_train : (120, 4), x_test : (30, 4), y_train : (120,), y_test : (30,)\n"
     ]
    }
   ],
   "source": [
    "print('x_train : {}, x_test : {}, y_train : {}, y_test : {}'.\\\n",
    "      format(x_train.shape, x_test.shape, y_train.shape, y_test.shape))"
   ]
  },
  {
   "cell_type": "markdown",
   "id": "574cd0ba",
   "metadata": {},
   "source": [
    "- cv 의 갯수에 따라 출력 값의 수가 달라진다."
   ]
  },
  {
   "cell_type": "code",
   "execution_count": 20,
   "id": "0763fcbe",
   "metadata": {},
   "outputs": [],
   "source": [
    "svc = svm.SVC(C = 1, kernel = 'rbf', gamma = 0.001)\n",
    "\n",
    "scores = cross_val_score(svc, x, y, cv = 5) "
   ]
  },
  {
   "cell_type": "code",
   "execution_count": 27,
   "id": "dd9924d2",
   "metadata": {},
   "outputs": [
    {
     "name": "stdout",
     "output_type": "stream",
     "text": [
      "score :  [0.86666667 0.96666667 0.83333333 0.96666667 0.93333333]\n",
      "----------------------------------------------------------------------\n",
      "mean score :  0.9133333333333334\n"
     ]
    }
   ],
   "source": [
    "print('score : ', scores)\n",
    "print('-'*70)\n",
    "print('mean score : ', scores.mean())"
   ]
  }
 ],
 "metadata": {
  "kernelspec": {
   "display_name": "seminar(python=3.6.13)",
   "language": "python",
   "name": "seminar"
  },
  "language_info": {
   "codemirror_mode": {
    "name": "ipython",
    "version": 3
   },
   "file_extension": ".py",
   "mimetype": "text/x-python",
   "name": "python",
   "nbconvert_exporter": "python",
   "pygments_lexer": "ipython3",
   "version": "3.6.13"
  }
 },
 "nbformat": 4,
 "nbformat_minor": 5
}
